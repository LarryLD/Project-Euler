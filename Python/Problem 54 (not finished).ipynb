{
 "cells": [
  {
   "cell_type": "markdown",
   "metadata": {},
   "source": [
    "# Problem 54\n",
    "\n",
    "In the card game poker, a hand consists of five cards and are ranked, from lowest to highest, in the following way:\n",
    "\n",
    "High Card: Highest value card.\n",
    "One Pair: Two cards of the same value.\n",
    "Two Pairs: Two different pairs.\n",
    "Three of a Kind: Three cards of the same value.\n",
    "Straight: All cards are consecutive values.\n",
    "Flush: All cards of the same suit.\n",
    "Full House: Three of a kind and a pair.\n",
    "Four of a Kind: Four cards of the same value.\n",
    "Straight Flush: All cards are consecutive values of same suit.\n",
    "Royal Flush: Ten, Jack, Queen, King, Ace, in same suit.\n",
    "The cards are valued in the order:\n",
    "2, 3, 4, 5, 6, 7, 8, 9, 10, Jack, Queen, King, Ace.\n",
    "\n",
    "If two players have the same ranked hands then the rank made up of the highest value wins; for example, a pair of eights beats a pair of fives (see example 1 below). But if two ranks tie, for example, both players have a pair of queens, then highest cards in each hand are compared (see example 4 below); if the highest cards tie then the next highest cards are compared, and so on.\n",
    "\n",
    "Consider the following five hands dealt to two players:\n",
    "\n",
    "Hand\t \tPlayer 1\t \tPlayer 2\t \tWinner\n",
    "1\t \t5H 5C 6S 7S KD\n",
    "Pair of Fives\n",
    " \t2C 3S 8S 8D TD\n",
    "Pair of Eights\n",
    " \tPlayer 2\n",
    "2\t \t5D 8C 9S JS AC\n",
    "Highest card Ace\n",
    " \t2C 5C 7D 8S QH\n",
    "Highest card Queen\n",
    " \tPlayer 1\n",
    "3\t \t2D 9C AS AH AC\n",
    "Three Aces\n",
    " \t3D 6D 7D TD QD\n",
    "Flush with Diamonds\n",
    " \tPlayer 2\n",
    "4\t \t4D 6S 9H QH QC\n",
    "Pair of Queens\n",
    "Highest card Nine\n",
    " \t3D 6D 7H QD QS\n",
    "Pair of Queens\n",
    "Highest card Seven\n",
    " \tPlayer 1\n",
    "5\t \t2H 2D 4C 4D 4S\n",
    "Full House\n",
    "With Three Fours\n",
    " \t3C 3D 3S 9S 9D\n",
    "Full House\n",
    "with Three Threes\n",
    " \tPlayer 1\n",
    "The file, poker.txt, contains one-thousand random hands dealt to two players. Each line of the file contains ten cards (separated by a single space): the first five are Player 1's cards and the last five are Player 2's cards. You can assume that all hands are valid (no invalid characters or repeated cards), each player's hand is in no specific order, and in each hand there is a clear winner.\n",
    "\n",
    "How many hands does Player 1 win?"
   ]
  },
  {
   "cell_type": "code",
   "execution_count": 110,
   "metadata": {
    "collapsed": false
   },
   "outputs": [],
   "source": [
    "import csv\n",
    "import numpy as np\n",
    "\n",
    "data = open(\"p054_poker.txt\")\n",
    "hand_data = data.readlines()\n",
    "#example of line: '5C AD 5D AC 9C 7C 5H 8D TD KS\\n'\n",
    "player_1_wins = 0\n",
    "for hand in hand_data:\n",
    "    cards = hand.split(' ')\n",
    "    cards[-1] = cards[-1][0:2]\n",
    "    player_1_hand = cards[:5]\n",
    "    player_2_hand = cards[-5:]\n",
    "    \n",
    "\n",
    "def find_winner(hand1, hand2):\n",
    "    #return 1 if hand1 wins, otherwise return 0\n",
    "    return 1\n",
    "    \n",
    "    \n",
    "\n",
    "def get_numbers(hand):\n",
    "    numbers = []\n",
    "    for card in hand:\n",
    "        if card[0] == 'A':\n",
    "            numbers.append(1)\n",
    "            continue\n",
    "        if card[0] == 'J':\n",
    "            numbers.append(11)\n",
    "            continue\n",
    "        if card[0] == 'Q':\n",
    "            numbers.append(12)\n",
    "            continue\n",
    "        if card[0] == 'K':\n",
    "            number.append(13)\n",
    "            continue\n",
    "        numbers.append(int(card[0]))\n",
    "    return np.sort(np.array(numbers), kind = 'mergesort')\n",
    "\n",
    "def flush(hand):\n",
    "    suit = hand[0][1]\n",
    "    for i in range(4):\n",
    "        if hand[i][1] != suit:\n",
    "            return False\n",
    "    return True\n",
    "\n",
    "def straight(hand):\n",
    "    numbers = get_numbers(hand)\n",
    "    for i in range(len(hand) - 1):\n",
    "        if (numbers[i] + 1) != numbers[i + 1]:\n",
    "            if (i == 0) and (numbers[i] == 1) and (numbers[i + 1] == 10):\n",
    "                continue\n",
    "            return False\n",
    "    return True\n",
    "    \n",
    "def straight_flush(hand):\n",
    "    return straight(hand) and flush(hand)\n",
    "\n",
    "def full_house(hand):\n",
    "    numbers = get_numbers(hand)\n",
    "    if len(np.unique(numbers)) == 2:\n",
    "        if not quadruple(hand):\n",
    "            return True\n",
    "    return False\n",
    "\n",
    "def quadruple(hand):\n",
    "    numbers = get_numbers(hand)\n",
    "    return (4 in np.bincount(numbers))\n",
    "\n",
    "def triple(hand):\n",
    "    numbers = get_numbers(hand)\n",
    "    return (3 in np.bincount(numbers))\n",
    "\n",
    "def pair(hand):\n",
    "    numbers = get_numbers(hand)\n",
    "    if len(np.unique(numbers)) < len(numbers):\n",
    "        return True\n",
    "    return False\n"
   ]
  },
  {
   "cell_type": "code",
   "execution_count": 111,
   "metadata": {
    "collapsed": false
   },
   "outputs": [
    {
     "data": {
      "text/plain": [
       "False"
      ]
     },
     "execution_count": 111,
     "metadata": {},
     "output_type": "execute_result"
    }
   ],
   "source": [
    "full_house(testing_hand)"
   ]
  },
  {
   "cell_type": "code",
   "execution_count": 112,
   "metadata": {
    "collapsed": false
   },
   "outputs": [
    {
     "name": "stdout",
     "output_type": "stream",
     "text": [
      "True\n",
      "True\n"
     ]
    }
   ],
   "source": [
    "testing_hand = [\"5C\", \"AD\", \"5D\", \"9C\", \"7C\"]\n",
    "straight_flush = ['AD', '2D', '3D', '4D', '5D']\n",
    "a = [1, 2, 4, 1, 4]\n",
    "np.sort(np.array(a), kind='mergesort')\n",
    "print(straight(straight_flush))\n",
    "print(flush(straight_flush))"
   ]
  },
  {
   "cell_type": "code",
   "execution_count": 113,
   "metadata": {
    "collapsed": false
   },
   "outputs": [
    {
     "name": "stdout",
     "output_type": "stream",
     "text": [
      "True\n"
     ]
    }
   ],
   "source": [
    "a = np.array([10])\n",
    "print(1 in np.bincount(a))"
   ]
  },
  {
   "cell_type": "code",
   "execution_count": null,
   "metadata": {
    "collapsed": true
   },
   "outputs": [],
   "source": []
  },
  {
   "cell_type": "code",
   "execution_count": null,
   "metadata": {
    "collapsed": true
   },
   "outputs": [],
   "source": []
  },
  {
   "cell_type": "code",
   "execution_count": null,
   "metadata": {
    "collapsed": true
   },
   "outputs": [],
   "source": []
  },
  {
   "cell_type": "code",
   "execution_count": null,
   "metadata": {
    "collapsed": true
   },
   "outputs": [],
   "source": []
  },
  {
   "cell_type": "code",
   "execution_count": null,
   "metadata": {
    "collapsed": true
   },
   "outputs": [],
   "source": []
  },
  {
   "cell_type": "code",
   "execution_count": null,
   "metadata": {
    "collapsed": true
   },
   "outputs": [],
   "source": []
  },
  {
   "cell_type": "code",
   "execution_count": null,
   "metadata": {
    "collapsed": true
   },
   "outputs": [],
   "source": []
  }
 ],
 "metadata": {
  "kernelspec": {
   "display_name": "Python 3",
   "language": "python",
   "name": "python3"
  },
  "language_info": {
   "codemirror_mode": {
    "name": "ipython",
    "version": 3
   },
   "file_extension": ".py",
   "mimetype": "text/x-python",
   "name": "python",
   "nbconvert_exporter": "python",
   "pygments_lexer": "ipython3",
   "version": "3.6.0"
  }
 },
 "nbformat": 4,
 "nbformat_minor": 2
}
