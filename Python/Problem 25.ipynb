{
 "cells": [
  {
   "cell_type": "markdown",
   "metadata": {},
   "source": [
    "# Problem 6\n",
    "The Fibonacci sequence is defined by the recurrence relation:\n",
    "\n",
    "$F_n = F_{n−1}$ + $F_{n−2}$, where $F_1 = 1$ and $F_2 = 1$.\n",
    "Hence the first 12 terms will be:\n",
    "\n",
    "$F_1 = 1, F_2 = 1, F_3 = 2, F_4 = 3, F_5 = 5, F_6 = 8, F_7 = 13, F_8 = 21, F_9 = 34, F_{10} = 55, F_{11} = 89, F_{12} = 144$.\n",
    "The 12th term, $F_12$, is the first term to contain three digits.\n",
    "\n",
    "What is the index of the first term in the Fibonacci sequence to contain 1000 digits?"
   ]
  },
  {
   "cell_type": "code",
   "execution_count": 6,
   "metadata": {
    "collapsed": false
   },
   "outputs": [
    {
     "data": {
      "text/plain": [
       "4782"
      ]
     },
     "execution_count": 6,
     "metadata": {},
     "output_type": "execute_result"
    }
   ],
   "source": [
    "def find_term_n_digits(n):\n",
    "    fib_seq = [1, 1]\n",
    "\n",
    "    i = 1\n",
    "    while True:\n",
    "        temp = fib_seq[i - 1] + fib_seq[i]\n",
    "        fib_seq.append(temp)\n",
    "        if len(str(temp)) >= n:\n",
    "            return len(fib_seq)\n",
    "        i += 1\n",
    "        \n",
    "find_term_n_digits(1000)"
   ]
  },
  {
   "cell_type": "code",
   "execution_count": null,
   "metadata": {
    "collapsed": true
   },
   "outputs": [],
   "source": []
  }
 ],
 "metadata": {
  "kernelspec": {
   "display_name": "Python 3",
   "language": "python",
   "name": "python3"
  },
  "language_info": {
   "codemirror_mode": {
    "name": "ipython",
    "version": 3
   },
   "file_extension": ".py",
   "mimetype": "text/x-python",
   "name": "python",
   "nbconvert_exporter": "python",
   "pygments_lexer": "ipython3",
   "version": "3.6.0"
  }
 },
 "nbformat": 4,
 "nbformat_minor": 2
}
