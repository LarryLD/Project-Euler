{
 "cells": [
  {
   "cell_type": "markdown",
   "metadata": {},
   "source": [
    "# Problem 4\n",
    "\n",
    "A palindromic number reads the same both ways. The largest palindrome made from the product of two 2-digit numbers is 9009 = 91 × 99.\n",
    "\n",
    "Find the largest palindrome made from the product of two 3-digit numbers."
   ]
  },
  {
   "cell_type": "code",
   "execution_count": 23,
   "metadata": {
    "collapsed": false
   },
   "outputs": [
    {
     "data": {
      "text/plain": [
       "0"
      ]
     },
     "execution_count": 23,
     "metadata": {},
     "output_type": "execute_result"
    }
   ],
   "source": [
    "#Notice that the set of numbers of two 3-digit numbers is bounded by 999 x 999 = 998001.\n",
    "def check_if_palindrome(x):\n",
    "    to_string = str(x)\n",
    "    length = len(to_string)\n",
    "    \n",
    "    for i in range(int(length/2)):\n",
    "        print(to_string[i], to_string[length - i -1])\n",
    "        if to_string[i] != to_string[length - i - 1]:\n",
    "            return False\n",
    "    return True\n",
    "    \n",
    "def find_next_palindrome_6(x):\n",
    "    #_6 is for 6 digit palindrome\n",
    "    to_string = str(x)\n",
    "    length = len(to_string)\n",
    "    \n",
    "    for i in range(3):\n",
    "        to_string[length - i - 1] = to_string[i]\n",
    "    \n",
    "    return int(to_string)\n",
    "\n",
    "find_next_palindrome_6()"
   ]
  },
  {
   "cell_type": "code",
   "execution_count": null,
   "metadata": {
    "collapsed": true
   },
   "outputs": [],
   "source": []
  }
 ],
 "metadata": {
  "kernelspec": {
   "display_name": "Python 3",
   "language": "python",
   "name": "python3"
  },
  "language_info": {
   "codemirror_mode": {
    "name": "ipython",
    "version": 3
   },
   "file_extension": ".py",
   "mimetype": "text/x-python",
   "name": "python",
   "nbconvert_exporter": "python",
   "pygments_lexer": "ipython3",
   "version": "3.6.0"
  }
 },
 "nbformat": 4,
 "nbformat_minor": 2
}
