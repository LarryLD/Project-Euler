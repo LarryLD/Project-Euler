{
 "cells": [
  {
   "cell_type": "markdown",
   "metadata": {},
   "source": [
    "# Problem 3\n",
    "The prime factors of 13195 are 5, 7, 13 and 29.\n",
    "\n",
    "What is the largest prime factor of the number 600851475143 ?"
   ]
  },
  {
   "cell_type": "code",
   "execution_count": 55,
   "metadata": {
    "collapsed": false
   },
   "outputs": [],
   "source": [
    "import sys \n",
    "\n",
    "sys.setrecursionlimit(int(600851475143/71/839))\n",
    "#This limit was obtained by brute force\n",
    "\n",
    "def next_prime_factors(y, num):\n",
    "    if y % num == 0:\n",
    "        return int(num)\n",
    "    return next_prime_factors(y, num + 1)\n",
    "\n",
    "def largest_prime_factor(y):\n",
    "    cycled_var = y\n",
    "    while True:\n",
    "        prime_found = next_prime_factors(cycled_var, 2)\n",
    "        if prime_found != cycled_var:\n",
    "            cycled_var = int(cycled_var/prime_found)\n",
    "            continue\n",
    "        return prime_found"
   ]
  },
  {
   "cell_type": "code",
   "execution_count": 57,
   "metadata": {
    "collapsed": false
   },
   "outputs": [
    {
     "data": {
      "text/plain": [
       "6857"
      ]
     },
     "execution_count": 57,
     "metadata": {},
     "output_type": "execute_result"
    }
   ],
   "source": [
    "largest_prime_factor(600851475143)"
   ]
  }
 ],
 "metadata": {
  "kernelspec": {
   "display_name": "Python 3",
   "language": "python",
   "name": "python3"
  },
  "language_info": {
   "codemirror_mode": {
    "name": "ipython",
    "version": 3
   },
   "file_extension": ".py",
   "mimetype": "text/x-python",
   "name": "python",
   "nbconvert_exporter": "python",
   "pygments_lexer": "ipython3",
   "version": "3.6.0"
  }
 },
 "nbformat": 4,
 "nbformat_minor": 2
}
